{
 "cells": [
  {
   "cell_type": "markdown",
   "id": "dba68388",
   "metadata": {},
   "source": [
    "# EDA\n",
    "\n",
    "Create your own EDA below/ Create as many code-blocks as you need.\n",
    "\n",
    "Once you've completed your EDA, complete the section titled **Reflections** where you will answer questions about your EDA.\n",
    "\n",
    "**Note**: Since this dataset is large, visualizations might load slower. You may want to consider using the `sample()` method if this dataset is too large for your computer to process in a reasonable amount of time."
   ]
  },
  {
   "cell_type": "code",
   "execution_count": 1,
   "id": "0a42d7d8",
   "metadata": {},
   "outputs": [],
   "source": [
    "import pandas as pd \n",
    "import numpy as np\n",
    "\n",
    "import seaborn as sns\n",
    "import matplotlib.pyplot as plt"
   ]
  },
  {
   "cell_type": "code",
   "execution_count": 2,
   "id": "95ac8ec2",
   "metadata": {},
   "outputs": [
    {
     "data": {
      "text/html": [
       "<div>\n",
       "<style scoped>\n",
       "    .dataframe tbody tr th:only-of-type {\n",
       "        vertical-align: middle;\n",
       "    }\n",
       "\n",
       "    .dataframe tbody tr th {\n",
       "        vertical-align: top;\n",
       "    }\n",
       "\n",
       "    .dataframe thead th {\n",
       "        text-align: right;\n",
       "    }\n",
       "</style>\n",
       "<table border=\"1\" class=\"dataframe\">\n",
       "  <thead>\n",
       "    <tr style=\"text-align: right;\">\n",
       "      <th></th>\n",
       "      <th>type</th>\n",
       "      <th>amount</th>\n",
       "      <th>nameOrig</th>\n",
       "      <th>oldbalanceOrg</th>\n",
       "      <th>newbalanceOrig</th>\n",
       "      <th>nameDest</th>\n",
       "      <th>oldbalanceDest</th>\n",
       "      <th>newbalanceDest</th>\n",
       "      <th>isFraud</th>\n",
       "      <th>isFlaggedFraud</th>\n",
       "    </tr>\n",
       "  </thead>\n",
       "  <tbody>\n",
       "    <tr>\n",
       "      <th>0</th>\n",
       "      <td>PAYMENT</td>\n",
       "      <td>983.09</td>\n",
       "      <td>C1454812978</td>\n",
       "      <td>36730.24</td>\n",
       "      <td>35747.15</td>\n",
       "      <td>M1491308340</td>\n",
       "      <td>0.00</td>\n",
       "      <td>0.00</td>\n",
       "      <td>0</td>\n",
       "      <td>0</td>\n",
       "    </tr>\n",
       "    <tr>\n",
       "      <th>1</th>\n",
       "      <td>PAYMENT</td>\n",
       "      <td>55215.25</td>\n",
       "      <td>C1031766358</td>\n",
       "      <td>99414.00</td>\n",
       "      <td>44198.75</td>\n",
       "      <td>M2102868029</td>\n",
       "      <td>0.00</td>\n",
       "      <td>0.00</td>\n",
       "      <td>0</td>\n",
       "      <td>0</td>\n",
       "    </tr>\n",
       "    <tr>\n",
       "      <th>2</th>\n",
       "      <td>CASH_IN</td>\n",
       "      <td>220986.01</td>\n",
       "      <td>C1451868666</td>\n",
       "      <td>7773074.97</td>\n",
       "      <td>7994060.98</td>\n",
       "      <td>C1339195526</td>\n",
       "      <td>924031.48</td>\n",
       "      <td>703045.48</td>\n",
       "      <td>0</td>\n",
       "      <td>0</td>\n",
       "    </tr>\n",
       "    <tr>\n",
       "      <th>3</th>\n",
       "      <td>TRANSFER</td>\n",
       "      <td>2357394.75</td>\n",
       "      <td>C458368123</td>\n",
       "      <td>0.00</td>\n",
       "      <td>0.00</td>\n",
       "      <td>C620979654</td>\n",
       "      <td>4202580.45</td>\n",
       "      <td>6559975.19</td>\n",
       "      <td>0</td>\n",
       "      <td>0</td>\n",
       "    </tr>\n",
       "    <tr>\n",
       "      <th>4</th>\n",
       "      <td>CASH_OUT</td>\n",
       "      <td>67990.14</td>\n",
       "      <td>C1098978063</td>\n",
       "      <td>0.00</td>\n",
       "      <td>0.00</td>\n",
       "      <td>C142246322</td>\n",
       "      <td>625317.04</td>\n",
       "      <td>693307.19</td>\n",
       "      <td>0</td>\n",
       "      <td>0</td>\n",
       "    </tr>\n",
       "  </tbody>\n",
       "</table>\n",
       "</div>"
      ],
      "text/plain": [
       "       type      amount     nameOrig  oldbalanceOrg  newbalanceOrig  \\\n",
       "0   PAYMENT      983.09  C1454812978       36730.24        35747.15   \n",
       "1   PAYMENT    55215.25  C1031766358       99414.00        44198.75   \n",
       "2   CASH_IN   220986.01  C1451868666     7773074.97      7994060.98   \n",
       "3  TRANSFER  2357394.75   C458368123           0.00            0.00   \n",
       "4  CASH_OUT    67990.14  C1098978063           0.00            0.00   \n",
       "\n",
       "      nameDest  oldbalanceDest  newbalanceDest  isFraud  isFlaggedFraud  \n",
       "0  M1491308340            0.00            0.00        0               0  \n",
       "1  M2102868029            0.00            0.00        0               0  \n",
       "2  C1339195526       924031.48       703045.48        0               0  \n",
       "3   C620979654      4202580.45      6559975.19        0               0  \n",
       "4   C142246322       625317.04       693307.19        0               0  "
      ]
     },
     "execution_count": 2,
     "metadata": {},
     "output_type": "execute_result"
    }
   ],
   "source": [
    "# import data \n",
    "transactions = pd.read_csv(\"../data/bank_transactions.csv\")\n",
    "\n",
    "transactions.head()"
   ]
  },
  {
   "cell_type": "code",
   "execution_count": 3,
   "id": "a6ebe601",
   "metadata": {},
   "outputs": [
    {
     "data": {
      "text/plain": [
       "(1000000, 10)"
      ]
     },
     "execution_count": 3,
     "metadata": {},
     "output_type": "execute_result"
    }
   ],
   "source": [
    "# TODO: view the shape of your data\n",
    "\n",
    "transactions.shape"
   ]
  },
  {
   "cell_type": "code",
   "execution_count": 4,
   "id": "4884101d",
   "metadata": {},
   "outputs": [
    {
     "data": {
      "text/plain": [
       "<bound method DataFrame.info of             type      amount     nameOrig  oldbalanceOrg  newbalanceOrig  \\\n",
       "0        PAYMENT      983.09  C1454812978       36730.24        35747.15   \n",
       "1        PAYMENT    55215.25  C1031766358       99414.00        44198.75   \n",
       "2        CASH_IN   220986.01  C1451868666     7773074.97      7994060.98   \n",
       "3       TRANSFER  2357394.75   C458368123           0.00            0.00   \n",
       "4       CASH_OUT    67990.14  C1098978063           0.00            0.00   \n",
       "...          ...         ...          ...            ...             ...   \n",
       "999995   PAYMENT    13606.07   C768838592      114122.11       100516.04   \n",
       "999996   PAYMENT     9139.61  C1912748675           0.00            0.00   \n",
       "999997  CASH_OUT   153650.41  C1494179549       50677.00            0.00   \n",
       "999998  CASH_OUT   163810.52   C116856975           0.00            0.00   \n",
       "999999  CASH_OUT    51379.41  C2103541974       45503.43            0.00   \n",
       "\n",
       "           nameDest  oldbalanceDest  newbalanceDest  isFraud  isFlaggedFraud  \n",
       "0       M1491308340            0.00            0.00        0               0  \n",
       "1       M2102868029            0.00            0.00        0               0  \n",
       "2       C1339195526       924031.48       703045.48        0               0  \n",
       "3        C620979654      4202580.45      6559975.19        0               0  \n",
       "4        C142246322       625317.04       693307.19        0               0  \n",
       "...             ...             ...             ...      ...             ...  \n",
       "999995  M1593119373            0.00            0.00        0               0  \n",
       "999996   M842968564            0.00            0.00        0               0  \n",
       "999997  C1560012502            0.00       380368.36        0               0  \n",
       "999998  C1348490647       357850.15       521660.67        0               0  \n",
       "999999   C924733771       202760.18       254139.59        0               0  \n",
       "\n",
       "[1000000 rows x 10 columns]>"
      ]
     },
     "execution_count": 4,
     "metadata": {},
     "output_type": "execute_result"
    }
   ],
   "source": [
    "# TODO: Begin your EDA\n",
    "\n",
    "transactions.info"
   ]
  },
  {
   "cell_type": "code",
   "execution_count": 16,
   "id": "70ec643e",
   "metadata": {},
   "outputs": [
    {
     "data": {
      "text/plain": [
       "<bound method NDFrame.describe of             type      amount     nameOrig  oldbalanceOrg  newbalanceOrig  \\\n",
       "0        PAYMENT      983.09  C1454812978       36730.24        35747.15   \n",
       "1        PAYMENT    55215.25  C1031766358       99414.00        44198.75   \n",
       "2        CASH_IN   220986.01  C1451868666     7773074.97      7994060.98   \n",
       "3       TRANSFER  2357394.75   C458368123           0.00            0.00   \n",
       "4       CASH_OUT    67990.14  C1098978063           0.00            0.00   \n",
       "...          ...         ...          ...            ...             ...   \n",
       "999995   PAYMENT    13606.07   C768838592      114122.11       100516.04   \n",
       "999996   PAYMENT     9139.61  C1912748675           0.00            0.00   \n",
       "999997  CASH_OUT   153650.41  C1494179549       50677.00            0.00   \n",
       "999998  CASH_OUT   163810.52   C116856975           0.00            0.00   \n",
       "999999  CASH_OUT    51379.41  C2103541974       45503.43            0.00   \n",
       "\n",
       "           nameDest  oldbalanceDest  newbalanceDest  isFraud  isFlaggedFraud  \n",
       "0       M1491308340            0.00            0.00        0               0  \n",
       "1       M2102868029            0.00            0.00        0               0  \n",
       "2       C1339195526       924031.48       703045.48        0               0  \n",
       "3        C620979654      4202580.45      6559975.19        0               0  \n",
       "4        C142246322       625317.04       693307.19        0               0  \n",
       "...             ...             ...             ...      ...             ...  \n",
       "999995  M1593119373            0.00            0.00        0               0  \n",
       "999996   M842968564            0.00            0.00        0               0  \n",
       "999997  C1560012502            0.00       380368.36        0               0  \n",
       "999998  C1348490647       357850.15       521660.67        0               0  \n",
       "999999   C924733771       202760.18       254139.59        0               0  \n",
       "\n",
       "[1000000 rows x 10 columns]>"
      ]
     },
     "execution_count": 16,
     "metadata": {},
     "output_type": "execute_result"
    }
   ],
   "source": [
    "transactions.describe"
   ]
  },
  {
   "cell_type": "code",
   "execution_count": 8,
   "id": "415d105c",
   "metadata": {},
   "outputs": [
    {
     "data": {
      "text/plain": [
       "<Axes: xlabel='type', ylabel='amount'>"
      ]
     },
     "execution_count": 8,
     "metadata": {},
     "output_type": "execute_result"
    },
    {
     "data": {
      "image/png": "[encoded data removed]",
      "text/plain": [
       "<Figure size 640x480 with 1 Axes>"
      ]
     },
     "metadata": {},
     "output_type": "display_data"
    }
   ],
   "source": [
    "sns.barplot(x=transactions[\"type\"], y=transactions[\"amount\"])"
   ]
  },
  {
   "cell_type": "code",
   "execution_count": 8,
   "id": "672ef3d8",
   "metadata": {},
   "outputs": [
    {
     "data": {
      "text/plain": [
       "<Axes: xlabel='oldbalanceOrg', ylabel='newbalanceOrig'>"
      ]
     },
     "execution_count": 8,
     "metadata": {},
     "output_type": "execute_result"
    },
    {
     "data": {
      "image/png": "[encoded data removed]",
      "text/plain": [
       "<Figure size 640x480 with 1 Axes>"
      ]
     },
     "metadata": {},
     "output_type": "display_data"
    }
   ],
   "source": [
    "sns.scatterplot(x=transactions[\"oldbalanceOrg\"], y=transactions[\"newbalanceOrig\"])"
   ]
  },
  {
   "cell_type": "code",
   "execution_count": 6,
   "id": "b753293d",
   "metadata": {},
   "outputs": [
    {
     "data": {
      "text/html": [
       "<div>\n",
       "<style scoped>\n",
       "    .dataframe tbody tr th:only-of-type {\n",
       "        vertical-align: middle;\n",
       "    }\n",
       "\n",
       "    .dataframe tbody tr th {\n",
       "        vertical-align: top;\n",
       "    }\n",
       "\n",
       "    .dataframe thead th {\n",
       "        text-align: right;\n",
       "    }\n",
       "</style>\n",
       "<table border=\"1\" class=\"dataframe\">\n",
       "  <thead>\n",
       "    <tr style=\"text-align: right;\">\n",
       "      <th></th>\n",
       "      <th>isFlaggedFraud</th>\n",
       "      <th>amount</th>\n",
       "    </tr>\n",
       "  </thead>\n",
       "  <tbody>\n",
       "    <tr>\n",
       "      <th>isFlaggedFraud</th>\n",
       "      <td>1.000000</td>\n",
       "      <td>0.000588</td>\n",
       "    </tr>\n",
       "    <tr>\n",
       "      <th>amount</th>\n",
       "      <td>0.000588</td>\n",
       "      <td>1.000000</td>\n",
       "    </tr>\n",
       "  </tbody>\n",
       "</table>\n",
       "</div>"
      ],
      "text/plain": [
       "                isFlaggedFraud    amount\n",
       "isFlaggedFraud        1.000000  0.000588\n",
       "amount                0.000588  1.000000"
      ]
     },
     "execution_count": 6,
     "metadata": {},
     "output_type": "execute_result"
    }
   ],
   "source": [
    "transactions[[\"isFlaggedFraud\",\"amount\"]].corr()"
   ]
  },
  {
   "cell_type": "markdown",
   "id": "5a6d360d",
   "metadata": {},
   "source": [
    "## Reflections\n",
    "\n",
    "Answer each question based on the visualizations that you've generated.\n",
    "\n",
    "Remember, you must justify your answers with proof."
   ]
  },
  {
   "cell_type": "markdown",
   "id": "4702d01d",
   "metadata": {},
   "source": [
    "### Q1\n",
    "\n",
    "Take a closer look at the numeric features in your dataset. How are these values distributed and what might this tell you about how most transactions behave compared to a few **rare** ones?\n",
    "\n",
    "**Hint**: Consider using visualizations that highlight frequency across value ranges.\n",
    "\n",
    "According to my first visualization, the bar plot is shown to be imbalanced. It shows that transaction is the most used type and debit is the least used type."
   ]
  },
  {
   "cell_type": "markdown",
   "id": "1699ba71",
   "metadata": {},
   "source": [
    "### Q2\n",
    "\n",
    "When comparing different numerical features against one another, do any interesting patterns emerge for transactions marked as fraudulent? Are there particular regions or ranges where these transactions seem to concentrate?\n",
    "\n",
    "**Hint**: Try comparing two numeric features at a time while distinguishing between fraud and non-fraud. Use visual cues to spot clusters or anomalies.\n",
    "\n",
    "Answer here"
   ]
  },
  {
   "cell_type": "markdown",
   "id": "561cffc4",
   "metadata": {},
   "source": [
    "### Q3\n",
    "\n",
    "How do types of transaction relate to the typical amounts involved? Are some types of transactions consistently larger or smaller than others?\n",
    "\n",
    "**Hint**: Break the dataset down by transaction type and compare summary statistics.\n",
    "\n",
    "According to the Pearson correlation, it shows a slight positive relationship. Yes, some are the types of transactions are consistently larger than others. For example, it seems as though transactions is the largest type and debit is the smallest compared to the other types."
   ]
  },
  {
   "cell_type": "markdown",
   "id": "211b2b6a",
   "metadata": {},
   "source": [
    "### Q4\n",
    "\n",
    "Do transaction amounts vary when you compare fraudulent and non-fraudulent transactions across different transaction types? What patterns emerge when you look at both fraud status and transaction type together?\n",
    "\n",
    "**Hint**:  Try summarizing average transaction amounts by both fraud label and transaction type to compare across categories.\n",
    "\n",
    "Answer here"
   ]
  },
  {
   "cell_type": "markdown",
   "id": "c5b31047",
   "metadata": {},
   "source": [
    "## Q5\n",
    "\n",
    "Consider how well the system's built-in fraud flag (`isFlaggedFraud`) aligns with actual fraudulent activity. Are there mismatches? What does this tell you about the system's current performance?\n",
    "\n",
    "**Hint**: Try organizing the data in a way that shows how often flagged transactions are truly fraudulent and how often fraud goes unflagged.\n",
    "\n",
    "Answer here"
   ]
  }
 ],
 "metadata": {
  "kernelspec": {
   "display_name": "ds",
   "language": "python",
   "name": "python3"
  },
  "language_info": {
   "codemirror_mode": {
    "name": "ipython",
    "version": 3
   },
   "file_extension": ".py",
   "mimetype": "text/x-python",
   "name": "python",
   "nbconvert_exporter": "python",
   "pygments_lexer": "ipython3",
   "version": "3.12.9"
  }
 },
 "nbformat": 4,
 "nbformat_minor": 5
}
